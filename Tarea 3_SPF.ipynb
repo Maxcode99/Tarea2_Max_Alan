{
 "cells": [
  {
   "cell_type": "markdown",
   "id": "ca536508",
   "metadata": {},
   "source": [
    "# Tarea 3: (Usando notebook de jupyter)\n",
    "\n",
    "Usando compresión de listas o funciones map(sino recuerda como funciona observar el siguiente enlace https://www.pythonforbeginners.com/lists/list-comprehensions-in-python/), resolver los siguientes ejercicios:"
   ]
  },
  {
   "cell_type": "markdown",
   "id": "6e10cc04",
   "metadata": {},
   "source": [
    "1.- Resolver la siguiente ecuación recursiva usando funciones como se vió en clase:\n",
    " - $ D_n=(n-1)D_{n-1}+(n-1)D_{n-2} ,    n\\geq 3 $\n",
    " -con $D_1=0 y D_2=1$"
   ]
  },
  {
   "cell_type": "code",
   "execution_count": null,
   "id": "0c01e4ea",
   "metadata": {},
   "outputs": [],
   "source": []
  },
  {
   "cell_type": "markdown",
   "id": "ea46aefc",
   "metadata": {},
   "source": [
    "2.-Count the number of spaces in the following string "
   ]
  },
  {
   "cell_type": "code",
   "execution_count": 1,
   "id": "050b905a",
   "metadata": {},
   "outputs": [],
   "source": [
    "variable = 'relaciónn requiere, para obtener el valor de un cierto término, el conocimiento de los dos anteriores'"
   ]
  },
  {
   "cell_type": "markdown",
   "id": "acc7357b",
   "metadata": {},
   "source": [
    "3.-Remove all of the vowels in a string [make a list of the non-vowels]"
   ]
  },
  {
   "cell_type": "code",
   "execution_count": null,
   "id": "da1b32d7",
   "metadata": {},
   "outputs": [],
   "source": [
    "string='esto es un string'"
   ]
  },
  {
   "cell_type": "markdown",
   "id": "12be4329",
   "metadata": {},
   "source": [
    "4.-Find all of the words in a string that are less than 4 letters."
   ]
  },
  {
   "cell_type": "code",
   "execution_count": null,
   "id": "7d3de26a",
   "metadata": {},
   "outputs": [],
   "source": [
    "string='este es un string con palabras de distintos tamaños'"
   ]
  },
  {
   "cell_type": "markdown",
   "id": "b51257d5",
   "metadata": {},
   "source": [
    "5.-Use a dictionary comprehension to count the length of each word in a sentence."
   ]
  },
  {
   "cell_type": "code",
   "execution_count": null,
   "id": "937a4f49",
   "metadata": {},
   "outputs": [],
   "source": [
    "sentence = 'esto es una oracion'"
   ]
  },
  {
   "cell_type": "markdown",
   "id": "cf965902",
   "metadata": {},
   "source": [
    "6.-Use a nested list comprehension to find all of the numbers from 1-1000 that are divisible by any single digit besides 1 (2-9)."
   ]
  },
  {
   "cell_type": "code",
   "execution_count": null,
   "id": "5c638120",
   "metadata": {},
   "outputs": [],
   "source": []
  }
 ],
 "metadata": {
  "kernelspec": {
   "display_name": "Python 3 (ipykernel)",
   "language": "python",
   "name": "python3"
  },
  "language_info": {
   "codemirror_mode": {
    "name": "ipython",
    "version": 3
   },
   "file_extension": ".py",
   "mimetype": "text/x-python",
   "name": "python",
   "nbconvert_exporter": "python",
   "pygments_lexer": "ipython3",
   "version": "3.10.12"
  }
 },
 "nbformat": 4,
 "nbformat_minor": 5
}
